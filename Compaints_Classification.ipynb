{
  "nbformat": 4,
  "nbformat_minor": 0,
  "metadata": {
    "colab": {
      "name": "Group26 TDL_LSTM.ipynb",
      "provenance": [],
      "collapsed_sections": []
    },
    "kernelspec": {
      "name": "python3",
      "display_name": "Python 3"
    },
    "language_info": {
      "name": "python"
    }
  },
  "cells": [
    {
      "cell_type": "markdown",
      "metadata": {
        "id": "hzovN90EEDbe"
      },
      "source": [
        "##Consumer Finance Complaints Classification using LSTM"
      ]
    },
    {
      "cell_type": "code",
      "metadata": {
        "id": "8I11drA5ohUs"
      },
      "source": [
        "import pandas as pd\n",
        "import numpy as np\n",
        "import matplotlib.pyplot as plt\n",
        "from keras import preprocessing\n",
        "import keras\n",
        "from keras.preprocessing.text import Tokenizer\n",
        "from sklearn.model_selection import train_test_split\n",
        "from keras.models import Sequential\n",
        "from keras.layers import Embedding\n",
        "from keras.layers import SpatialDropout1D\n",
        "from keras.layers.core import Dense, Activation, Dropout\n",
        "from keras.layers.recurrent import LSTM\n",
        "from keras.models import Sequential\n",
        "from keras.callbacks import ModelCheckpoint, EarlyStopping"
      ],
      "execution_count": null,
      "outputs": []
    },
    {
      "cell_type": "code",
      "metadata": {
        "colab": {
          "base_uri": "https://localhost:8080/"
        },
        "id": "LedC76E6p6x3",
        "outputId": "b7446700-b75a-4609-878d-38f495c936b2"
      },
      "source": [
        "df = pd.read_csv('/content/drive/MyDrive/Lstm/consumer_complaints.csv')\n",
        "df.info"
      ],
      "execution_count": null,
      "outputs": [
        {
          "output_type": "stream",
          "text": [
            "/usr/local/lib/python3.7/dist-packages/IPython/core/interactiveshell.py:2718: DtypeWarning: Columns (5,11) have mixed types.Specify dtype option on import or set low_memory=False.\n",
            "  interactivity=interactivity, compiler=compiler, result=result)\n"
          ],
          "name": "stderr"
        },
        {
          "output_type": "execute_result",
          "data": {
            "text/plain": [
              "<bound method DataFrame.info of        date_received           product  ... consumer_disputed? complaint_id\n",
              "0         08/30/2013          Mortgage  ...                Yes       511074\n",
              "1         08/30/2013          Mortgage  ...                Yes       511080\n",
              "2         08/30/2013  Credit reporting  ...                 No       510473\n",
              "3         08/30/2013      Student loan  ...                Yes       510326\n",
              "4         08/30/2013   Debt collection  ...                Yes       511067\n",
              "...              ...               ...  ...                ...          ...\n",
              "555952    07/01/2014          Mortgage  ...                 No       919529\n",
              "555953    07/01/2014          Mortgage  ...                 No       918447\n",
              "555954    07/10/2012          Mortgage  ...                 No       114550\n",
              "555955    04/14/2015   Debt collection  ...                 No      1329963\n",
              "555956    08/14/2014   Debt collection  ...                 No       984116\n",
              "\n",
              "[555957 rows x 18 columns]>"
            ]
          },
          "metadata": {
            "tags": []
          },
          "execution_count": 2
        }
      ]
    },
    {
      "cell_type": "code",
      "metadata": {
        "colab": {
          "base_uri": "https://localhost:8080/"
        },
        "id": "KQDSQ3Q1sWcM",
        "outputId": "3d7971aa-a5fa-4725-f4e6-4dcf0ba09c16"
      },
      "source": [
        "df['consumer_complaint_narrative'].value_counts()"
      ],
      "execution_count": null,
      "outputs": [
        {
          "output_type": "execute_result",
          "data": {
            "text/plain": [
              "This company continues to report on my credit report after I sent them a letter telling them that this account was not mine and I have no idea what it is or who it belongs to! \\n\\nI asked for proof of a signed contract, I asked for a license to collect in my state, I asked for copies of all information referenced for this debt and still to date, I have not received anything but harassment from this company! \\n\\nTHIS IS NOT MY DEBT! \\n\\nI WANT THIS ACCOUNT REMOVED FROM MY CREDIT REPORT AND THIS COMPANY TO STOP CONTACTING ME IMMEDIATELY! \\n                                                                                                                                                                                                                                                                                                                                                                                                                                                                                                                                                                                                                                                                                                                                                                                                                                                                                                                                                                                                                                                                                                                                                                                                                                                                                                                                                                                                                                                                                                                                                                                                                                                                                                                                                                                                                                                                                                                                                                                                                                                                                                                                                                                                                                                                                                                                                                                                                                                                                                                                                                                                                                                                                                                                                                                                                                                                                                                                                                                                                                                                                                                                                                                                                                                                                                                                                                             37\n",
              "I have been a victim of Identity Theft. I have been trying to work with the Credit Reporting Agency but they are refusing to honor my valid identity theft case thus these incorrect/fraudulent items are still on my credit report and they must be removed immediately but they are do not belong to me. I have provided all of the proof to show that I was a victim of Identity Theft and that to the best of my knowledge these fraudulent accounts do not belong to me. Please take immediate action on my behalf so I can have these items removed, deleted and permanently blocked from my credit report, so that I can get back on track to a normal life. \\n\\nRegards \\n                                                                                                                                                                                                                                                                                                                                                                                                                                                                                                                                                                                                                                                                                                                                                                                                                                                                                                                                                                                                                                                                                                                                                                                                                                                                                                                                                                                                                                                                                                                                                                                                                                                                                                                                                                                                                                                                                                                                                                                                                                                                                                                                                                                                                                                                                                                                                                                                                                                                                                                                                                                                                                                                                                                                                                                                                                                                                                                                                                                                                                                                                                                                                                                                                                                           27\n",
              "I have sent several requests to Experian requesting an investigation of my accounts. It has been months and I still have not received a response to my concerns. The only thing I have received is some automated rejection letter stating that they wo n't do anything to help me ( please see attached ). \\nThis has to be a violation of my rights. I feel like I 've already wasted so much time just trying to get Experian to look at the errors on my credit report and I 'm so frustrated that Experian is intentionally not responding to my inquiries. I need to have this issue resolved immediately. There are many things I need to do with my life and they all involve my credit. But I am not able to move forward all because of this credit bureau! \\n                                                                                                                                                                                                                                                                                                                                                                                                                                                                                                                                                                                                                                                                                                                                                                                                                                                                                                                                                                                                                                                                                                                                                                                                                                                                                                                                                                                                                                                                                                                                                                                                                                                                                                                                                                                                                                                                                                                                                                                                                                                                                                                                                                                                                                                                                                                                                                                                                                                                                                                                                                                                                                                                                                                                                                                                                                                                                                                                                                                                                                                                                                                                                                     26\n",
              "This company continues to report on my credit report after I sent them a letter telling them that this account was not mine and I have no idea what it is or who it belongs to! \\n\\nI asked for proof of a signed contract, I asked for a license to collect in my state, I asked for copies of all information referenced for this debt and still to date, I have not received anything but harassment from this company! \\n\\nTHIS IS NOT MY DEBT! \\n                                                                                                                                                                                                                                                                                                                                                                                                                                                                                                                                                                                                                                                                                                                                                                                                                                                                                                                                                                                                                                                                                                                                                                                                                                                                                                                                                                                                                                                                                                                                                                                                                                                                                                                                                                                                                                                                                                                                                                                                                                                                                                                                                                                                                                                                                                                                                                                                                                                                                                                                                                                                                                                                                                                                                                                                                                                                                                                                                                                                                                                                                                                                                                                                                                                                                                                                                                                                                                                                                       24\n",
              "While checking my personal credit report, I noticed an unauthorized and fraudulent credit inquiry made by XXXX on or about XX/XX/XXXX on Transunion. I did not authorized anyone employed by this company to make any inquiry and view my credit report. XXXX has violated the Fair Credit Reporting Act Section 1681b ( c ). They were not legally entitled to make this fraudulent inquiry. This is a serious breach of my privacy rights. \\nI have requested that they mail me a copy of my signed authorization form that gave them the right to view my credit within five ( 5 ) business days so that I can verify its validity and advised them that if they can not provide me with proof that I authorized them to view my credit report then I am demanding that they contact the credit bureaus immediately and have them remove the unauthorized and fraudulent hard inquiry immediately. I also requested that they remove my personal information from their records. My Social Security # is XXXX and my Date of Birth is XX/XX/XXXX in case it is needed to locate the fraudulent inquiry in their system. \\n                                                                                                                                                                                                                                                                                                                                                                                                                                                                                                                                                                                                                                                                                                                                                                                                                                                                                                                                                                                                                                                                                                                                                                                                                                                                                                                                                                                                                                                                                                                                                                                                                                                                                                                                                                                                                                                                                                                                                                                                                                                                                                                                                                                                                                                                                                                                                                                                                                                                                                                                                                                                                                                                                                                                                                                                                14\n",
              "                                                                                                                                                                                                                                                                                                                                                                                                                                                                                                                                                                                                                                                                                                                                                                                                                                                                                                                                                                                                                                                                                                                                                                                                                                                                                                                                                                                                                                                                                                                                                                                                                                                                                                                                                                                                                                                                                                                                                                                                                                                                                                                                                                                                                                                                                                                                                                                                                                                                                                                                                                                                                                                                                                                                                                                                                                                                                                                                                                                                                                                                                                                                                                                                                                                                                                                                                                                                                                                                                                                                                                                                                                                                                                                                                                                                                                                                                                                                             ..\n",
              "I have items showing negiitive reports on accounts my ex wife must have got in my name unknowing to me \\n                                                                                                                                                                                                                                                                                                                                                                                                                                                                                                                                                                                                                                                                                                                                                                                                                                                                                                                                                                                                                                                                                                                                                                                                                                                                                                                                                                                                                                                                                                                                                                                                                                                                                                                                                                                                                                                                                                                                                                                                                                                                                                                                                                                                                                                                                                                                                                                                                                                                                                                                                                                                                                                                                                                                                                                                                                                                                                                                                                                                                                                                                                                                                                                                                                                                                                                                                                                                                                                                                                                                                                                                                                                                                                                                                                                                                                     1\n",
              "I would like to talk to someone about my lender, XXXX XXXX. Who has n't been answering my phone calls and gave me a false rate on my mortgage. \\n                                                                                                                                                                                                                                                                                                                                                                                                                                                                                                                                                                                                                                                                                                                                                                                                                                                                                                                                                                                                                                                                                                                                                                                                                                                                                                                                                                                                                                                                                                                                                                                                                                                                                                                                                                                                                                                                                                                                                                                                                                                                                                                                                                                                                                                                                                                                                                                                                                                                                                                                                                                                                                                                                                                                                                                                                                                                                                                                                                                                                                                                                                                                                                                                                                                                                                                                                                                                                                                                                                                                                                                                                                                                                                                                                                                             1\n",
              "My husband and I have been trying to refinance our mortgage since XXXX XXXX, XX/XX/XXXX with XXXX MortgageLine, XXXX XXXX XXXX XXXX XXXX XXXX, XXXX XXXX, PA XXXX. \\nThe company has strung us along, all the while asking for repetitive documents and income statements. We have paid for an appraisal XXXX because the company took so long to process that the XXXX appraisal expired. Each appraisal was {$400.00}. My husband is in the XXXX XXXX and was away XXXX XX/XX/XXXX thru XXXX XX/XX/XXXX. The broker implied this was XXXX of the reasons the refinance was taking so long, but my husband signed a XXXX for me to finalize everything. While he was in training, XXXX XXXX asked for more documentation proving his pay. Even though they knew the military pay was temporary, they said the full time work pay stubs were no longer applicable. When my husband returned to his full time employment after military training, we once again had to submit pay and tax returns. XXXX XXXX has checked our credit score multiple times, which is good standing. We have yet to have an answer of why the refinance is taking so long. XXXX XXXX is working with XXXX XXXX XXXX XXXX. \\n                                                                                                                                                                                                                                                                                                                                                                                                                                                                                                                                                                                                                                                                                                                                                                                                                                                                                                                                                                                                                                                                                                                                                                                                                                                                                                                                                                                                                                                                                                                                                                                                                                                                                                                                                                                                                                                                                                                                                                                                                                                                                                                                                                                                                                                                                                                                                                                                                                                                                                                                                                                                                                                                                                                                      1\n",
              "I have never went to this hospital never been there never receiveda letter from this collection agency \\n                                                                                                                                                                                                                                                                                                                                                                                                                                                                                                                                                                                                                                                                                                                                                                                                                                                                                                                                                                                                                                                                                                                                                                                                                                                                                                                                                                                                                                                                                                                                                                                                                                                                                                                                                                                                                                                                                                                                                                                                                                                                                                                                                                                                                                                                                                                                                                                                                                                                                                                                                                                                                                                                                                                                                                                                                                                                                                                                                                                                                                                                                                                                                                                                                                                                                                                                                                                                                                                                                                                                                                                                                                                                                                                                                                                                                                     1\n",
              "The XXXX XXXX XXXX Apartments shortest lease available was 8 mos., as the 6 mos. was taken-during the delayed lease processing due to the account ID/password typo-creating my inability to access account ). XXXX resent the e-signature via email ( supposedly w/corrected lease term for 8 mos. ), but again with another lease term typo ( this time 10 mos. instead of 12 mos. ). I complete my e-signature during my departure XXXX XXXX I selected the 8 mos. lease term ( as noted on my application and the correspondence between XXXX XXXX and myself ). Upon finding the lease term typo, I informed XXXX XXXX and she promised to correct it and told me my term was noted on my application and in our email correspondence. XXXX told me if I wanted to extend my lease term during my tenancy, to 12 mos. with ONE ( 1 ) month FREE, that I could by notifying them in writing or coming into the office to see her. I travel a lot and was not home the majority of the time. I returned home for the XXXX holiday and got really sick, later finding that I was having an allergic reaction to the black fuzzy mold in my window seals ( that was a reoccurring problem ). Due to the lack of response, I decided not to renew my lease term, as the rental office sent me countless accumulating weekly request to extend my lease XX/XX/XXXX XX/XX/XXXX XXXX was suppose to access XXXX email account to verify my chosen lease term, as she could n't locate my file ( while I was in the office ). \\n** [ Long/Short of it ] **My lease term was suppose to be 8 mos. \\nMy account access was never provided ( due to the processing error by XXXX XXXX XXXX leasing staff Account ID/Password ) My lease term was NEVER corrected ( thought they relentlessly offered to extend it and provide incentives ) I moved XX/XX/XXXX and though my lease term expired at the end XX/XX/XXXX. \\nXXXX XXXX misrepresented the required notice and procedure for submitting notice ( during my hand delivered notice of intent to vacate at the conclusion of my lease that I delivered to the leasing office at the end XX/XX/XXXX ). \\nXXXX told me XX/XX/XXXX did not count in my lease term because I took late possession of the apartment XX/XX/XXXX XX/XX/XXXX \\nXXXX told me my notice had to be at the beginning of the month ( as I resubmitted notice XX/XX/XXXX ). \\nXXXX told me my lease expired XXXX. \\nHowever, XXXX called me when maintenance saw my relatives begin packing and moving XXXX. XXXX told me I had to submit my notification of intent to move out on the first of the month. XXXX me she would consider my notification as per our phone conversation [ NOTEWORTHY XX/XX/XXXX ] ( after our telephone conversation became very contentious ). \\nXXXX told me is I moved out before my 60 days that she would sue me XXXX. I asked that she or a leasing representative be present for my exit walk through XX/XX/XXXX. \\n\\nI conducted my exit walk through with my witnesses and inspector. I video taped and photographed everything. \\n[ Problem ] : I was forced into a 12 mos. lease. After speaking with counsel XX/XX/XXXX, I was informed that the notice due was only thirty ( 30 ) days and I was entitled to my one month FREE rent, due to my [ FORCED ] 12 mos. occupancy. \\nFurthermore, XXXX XXXX XXXX hired Professional Debt Mediation to report fraudulent and intention inaccurate negative account information on my credit report. My tenancy was paid for the required 12 mos. period. The XXXX XXXX XXXX Staff are very dishonest 1 ). reporting damages that DID NOT EXIST, 2 ). intentionally employing tactics to extend my lease with threats of legal action, without responding to my numerous written and in-person requests for validation of terms & required notice, and 3 ). failing to honor their landlord, procedural, and contractual obligations \\n     1\n",
              "Name: consumer_complaint_narrative, Length: 65646, dtype: int64"
            ]
          },
          "metadata": {
            "tags": []
          },
          "execution_count": 3
        }
      ]
    },
    {
      "cell_type": "code",
      "metadata": {
        "colab": {
          "base_uri": "https://localhost:8080/"
        },
        "id": "CJf7CSOHb3ih",
        "outputId": "91226a7c-a00e-4325-8041-f5c9a2ca64f4"
      },
      "source": [
        "df['product'].value_counts()"
      ],
      "execution_count": null,
      "outputs": [
        {
          "output_type": "execute_result",
          "data": {
            "text/plain": [
              "Mortgage                   186475\n",
              "Debt collection            101052\n",
              "Credit reporting            91854\n",
              "Credit card                 66468\n",
              "Bank account or service     62563\n",
              "Consumer Loan               20990\n",
              "Student loan                15839\n",
              "Payday loan                  3877\n",
              "Money transfers              3812\n",
              "Prepaid card                 2470\n",
              "Other financial service       557\n",
              "Name: product, dtype: int64"
            ]
          },
          "metadata": {
            "tags": []
          },
          "execution_count": 4
        }
      ]
    },
    {
      "cell_type": "code",
      "metadata": {
        "id": "Yc5Enk9ur2Ly",
        "colab": {
          "base_uri": "https://localhost:8080/"
        },
        "outputId": "80f4989b-066a-43fa-9703-caa336004d59"
      },
      "source": [
        "complains = df[[\"product\",\"consumer_complaint_narrative\"]]\n",
        "complains[\"consumer_complaint_narrative\"].isnull().value_counts()\n",
        "complains[\"product\"].value_counts()"
      ],
      "execution_count": null,
      "outputs": [
        {
          "output_type": "execute_result",
          "data": {
            "text/plain": [
              "Mortgage                   186475\n",
              "Debt collection            101052\n",
              "Credit reporting            91854\n",
              "Credit card                 66468\n",
              "Bank account or service     62563\n",
              "Consumer Loan               20990\n",
              "Student loan                15839\n",
              "Payday loan                  3877\n",
              "Money transfers              3812\n",
              "Prepaid card                 2470\n",
              "Other financial service       557\n",
              "Name: product, dtype: int64"
            ]
          },
          "metadata": {
            "tags": []
          },
          "execution_count": 5
        }
      ]
    },
    {
      "cell_type": "code",
      "metadata": {
        "colab": {
          "base_uri": "https://localhost:8080/"
        },
        "id": "z8wMk10hr4lw",
        "outputId": "31a8c92d-f3ef-4e61-9de1-9aaef08a5a42"
      },
      "source": [
        "df_complains = complains.dropna().reset_index().drop(\"index\",axis =1)\n",
        "df_complains[\"product\"].value_counts()"
      ],
      "execution_count": null,
      "outputs": [
        {
          "output_type": "execute_result",
          "data": {
            "text/plain": [
              "Debt collection            17552\n",
              "Mortgage                   14919\n",
              "Credit reporting           12526\n",
              "Credit card                 7929\n",
              "Bank account or service     5711\n",
              "Consumer Loan               3678\n",
              "Student loan                2128\n",
              "Prepaid card                 861\n",
              "Payday loan                  726\n",
              "Money transfers              666\n",
              "Other financial service      110\n",
              "Name: product, dtype: int64"
            ]
          },
          "metadata": {
            "tags": []
          },
          "execution_count": 6
        }
      ]
    },
    {
      "cell_type": "code",
      "metadata": {
        "id": "DHVMl2fhsE80",
        "colab": {
          "base_uri": "https://localhost:8080/"
        },
        "outputId": "354d005e-e615-48f0-ba9c-9e8967aa48ba"
      },
      "source": [
        "def print_plot(index):\n",
        "    print(df_complains[\"consumer_complaint_narrative\"].iloc[index])\n",
        "    print(\"Product: \",df_complains[\"product\"].iloc[index])\n",
        "    print(\"\\n\")\n",
        "print_plot(12)\n",
        "print_plot(15)"
      ],
      "execution_count": null,
      "outputs": [
        {
          "output_type": "stream",
          "text": [
            "I have a car loan with PNC bank. In XXXX of 2014 I sent a payment of {$250.00} in the form of a money order. PNC bank lost my payment. After that mishap I began to submit. my payments online, via bill payment. Now this month I submitted a payment of {$300.00}, online as before, they will not release the money to my account. I have proof that I sent the payment and PNC bank still refuses to accept the payment. \n",
            "\n",
            "Product:  Consumer Loan\n",
            "\n",
            "\n",
            "In XX/XX/XXXX I filed a police report regarding my wallet being stolen which had money, credit cards, driver 's license, SS card, and checks. I immediately went to my bank and closed the account and reopened a new one and received new checks with a different account number. The person who stole my wallet had used my debit card ... but since it was still pending ... the bank was able to block the withdrawal. I placed a fraud alert on my credit reports and I got a new driver 's license and then ended up getting a XXXX one with my new name since I had married. \n",
            "Last week I received a letter from Meade & Associates attempting to collect on a debt from XXXX checks written on my old account with my old drivers license name starting in XX/XX/XXXX. I called and spoke with XXXX XXXX and he agreed that everything was done correctly, I just needed to send him the information from my bank and the police report along with my current drivers license. I requested that he send me copies of the checks that were written, which he did. I went to my bank and they did not have anything specific since nothing actually went through my account at the time. However, they new I had closed that account and reopened the new one and that I had presented them with a police report. They wrote me a letter to give to XXXX XXXX and I was able to retrieve the police report online. Monday, XXXX XXXX, I faxed both of these documents along with my current drivers license, my actual signature, as well as the new police report number for the case filed with the forgery/fraud department. I followed up with a call to XXXX XXXX on Tuesday and was informed he was not available, but they would have him return my call. I called Wednesday afternoon and was then told that he had left early that day without returning my call. I asked if anyone else could help. I was transferred to XXXX. She obtained the documents that I had faxed and I explained to her I wanted to finalize clearing this ordeal. She became hateful and kept saying she needed documents that I she already had. She stated I still needed an affidavit from my bank stating I did not write the checks ... she refused to listen to anything I had to say and acted is if it did not matter what I sent ... it was n't going to make a difference. At that point I definitely became angry and she told me to never call that office again. I called my bank and told them what was going on and they stated that XXXX did not know what she was talking about because the bank never had me sign an affidavit because nothing had actually gone through my account since I had immediately blocked all transactions due to closing the account. The check transactions even clearly say that when they were processed there was no account found. I am currently waiting for my case to be assigned to a detective ... but I am filing reports and claims to help prevent any more aggravation from this company and hope they will learn that you ca n't treat people like criminals when they are the victims in some circumstances ... especially when they present facts and proof. \n",
            "\n",
            "Product:  Debt collection\n",
            "\n",
            "\n"
          ],
          "name": "stdout"
        }
      ]
    },
    {
      "cell_type": "markdown",
      "metadata": {
        "id": "9KtDgYmoMghy"
      },
      "source": [
        "##PRE PROCESSING"
      ]
    },
    {
      "cell_type": "code",
      "metadata": {
        "id": "hzpOm1hqaLFj",
        "colab": {
          "base_uri": "https://localhost:8080/"
        },
        "outputId": "dd63085b-99dd-4340-ab64-bea32cdc327d"
      },
      "source": [
        "import re\n",
        "import nltk\n",
        "from nltk.tokenize import word_tokenize\n",
        "nltk.download('stopwords')\n",
        "from nltk.corpus import stopwords\n",
        "def clean_text(text):\n",
        "    text = text.lower()\n",
        "    pattern = re.compile(r\"[,.\\\"!@#$%^&*(){}?/;`~:<>+=-]\")\n",
        "    text = re.sub(pattern,\"\",text)\n",
        "    text = text.replace(\"x\",\"\")\n",
        "    text = text.split()\n",
        "    texts = [word for word in text if word.isalpha()]\n",
        "    stop_words = set(stopwords.words(\"english\"))\n",
        "    cleaned_text = [word for word in texts if word not in stop_words]\n",
        "    cleaned_text = \" \".join(cleaned_text)\n",
        "    return cleaned_text"
      ],
      "execution_count": null,
      "outputs": [
        {
          "output_type": "stream",
          "text": [
            "[nltk_data] Downloading package stopwords to /root/nltk_data...\n",
            "[nltk_data]   Unzipping corpora/stopwords.zip.\n"
          ],
          "name": "stdout"
        }
      ]
    },
    {
      "cell_type": "code",
      "metadata": {
        "id": "MhUX9pWUaO1H",
        "colab": {
          "base_uri": "https://localhost:8080/"
        },
        "outputId": "821aa9fb-3cc9-4e36-dd3f-766b9d1e19e6"
      },
      "source": [
        "df_complains[\"consumer_complaint_narrative\"] = df_complains[\"consumer_complaint_narrative\"].apply(clean_text)\n",
        "print_plot(15)"
      ],
      "execution_count": null,
      "outputs": [
        {
          "output_type": "stream",
          "text": [
            "filed police report regarding wallet stolen money credit cards driver license ss card checks immediately went bank closed account reopened new one received new checks different account number person stole wallet used debit card since still pending bank able block withdrawal placed fraud alert credit reports got new driver license ended getting one new name since married last week received letter meade associates attempting collect debt checks written old account old drivers license name starting called spoke agreed everything done correctly needed send information bank police report along current drivers license requested send copies checks written went bank anything specific since nothing actually went account time however new closed account reopened new one presented police report wrote letter give able retrieve police report online monday faed documents along current drivers license actual signature well new police report number case filed forgeryfraud department followed call tuesday informed available would return call called wednesday afternoon told left early day without returning call asked anyone else could help transferred obtained documents faed eplained wanted finalize clearing ordeal became hateful kept saying needed documents already stated still needed affidavit bank stating write checks refused listen anything say acted matter sent going make difference point definitely became angry told never call office called bank told going stated know talking bank never sign affidavit nothing actually gone account since immediately blocked transactions due closing account check transactions even clearly say processed account found currently waiting case assigned detective filing reports claims help prevent aggravation company hope learn ca treat people like criminals victims circumstances especially present facts proof\n",
            "Product:  Debt collection\n",
            "\n",
            "\n"
          ],
          "name": "stdout"
        }
      ]
    },
    {
      "cell_type": "code",
      "metadata": {
        "id": "MakVFXJVaSOp",
        "colab": {
          "base_uri": "https://localhost:8080/"
        },
        "outputId": "540e17c6-5522-46c9-98c7-71b158544093"
      },
      "source": [
        "print_plot(19)"
      ],
      "execution_count": null,
      "outputs": [
        {
          "output_type": "stream",
          "text": [
            "trying deal navient formerly regarding private loans taken college tuition name mother primary borrower cosigner admitted phone repeatedly giving money phone eact amount want eorbitant document phone call started dealing via paper letters taken kindly loans primary borrower epecting well month payments unreasonable income given multiple financial statements phone apparently putting system net time talk someone say nothing file give statements agree month much nothing else available ask recommend say even bother sending amount actually afford without losing home car needed job enough anything worthwhile make fun going career path hoping college demand know loans mother primary borrower one lower payment plan confirmation numbers payments taking checking account received letter mail stating payment plan rejected reason trying find writing yet even date letter sent money still taken account navient also still receiving letters phone calls particular account delinquent even though making payments wits end trying contact via paper refuse talk phone anymore resulting panic aniety attacks every time call want go default ca afford anything close demanding loans used forbearance time loans paid every months put almost making wish never went school also wish school done better job educating private loans really instead sign piece paper money towards tuition federal loans reasonable repayment plan based income ca private loans way please help advise\n",
            "Product:  Student loan\n",
            "\n",
            "\n"
          ],
          "name": "stdout"
        }
      ]
    },
    {
      "cell_type": "code",
      "metadata": {
        "id": "kmYmAIJQaTqT"
      },
      "source": [
        "import tensorflow as tf\n",
        "import tensorflow.keras \n",
        "from tensorflow.keras.preprocessing.text import Tokenizer\n",
        "\n",
        "# maximum number of words in our vocabulary\n",
        "max_nb_words = 50000\n",
        "# maximum number of words within each complaint document \n",
        "max_sequence_length = 250\n",
        "\n",
        "embedding_dim = 100\n",
        "\n",
        "tokenizer= Tokenizer(num_words = max_nb_words,\n",
        "                    filters = '!\"#$%&()*+,-./:;<=>?@[\\\\]^_`{|}~\\t\\n',\n",
        "                    lower = True,\n",
        "                    split = \" \",\n",
        "                    char_level = False)"
      ],
      "execution_count": null,
      "outputs": []
    },
    {
      "cell_type": "code",
      "metadata": {
        "id": "sg4QN90oaVyD",
        "colab": {
          "base_uri": "https://localhost:8080/"
        },
        "outputId": "ee9599e4-9089-49c2-8ac1-e529a337f0fd"
      },
      "source": [
        "tokenizer.fit_on_texts(df_complains[\"consumer_complaint_narrative\"].to_numpy())\n",
        "word_index = tokenizer.word_index\n",
        "print(\"Found unique tokens\", len(word_index))"
      ],
      "execution_count": null,
      "outputs": [
        {
          "output_type": "stream",
          "text": [
            "Found unique tokens 60270\n"
          ],
          "name": "stdout"
        }
      ]
    },
    {
      "cell_type": "code",
      "metadata": {
        "id": "7chvy2YxaYRZ",
        "colab": {
          "base_uri": "https://localhost:8080/"
        },
        "outputId": "d26f29fe-12b3-45a6-aeeb-3d9f2b34f21f"
      },
      "source": [
        "from tensorflow.keras.preprocessing.sequence import pad_sequences\n",
        "X = tokenizer.texts_to_sequences(df_complains[\"consumer_complaint_narrative\"].to_numpy())\n",
        "X = pad_sequences(X,maxlen = max_sequence_length)\n",
        "print(\"shape of data tensor:\", X.shape)"
      ],
      "execution_count": null,
      "outputs": [
        {
          "output_type": "stream",
          "text": [
            "shape of data tensor: (66806, 250)\n"
          ],
          "name": "stdout"
        }
      ]
    },
    {
      "cell_type": "code",
      "metadata": {
        "id": "SUbAsolMabH2",
        "colab": {
          "base_uri": "https://localhost:8080/"
        },
        "outputId": "5439dc61-4d63-477b-e42d-0196ea582754"
      },
      "source": [
        "print(X[1])\n",
        "print(tokenizer.sequences_to_texts([X[1]]))"
      ],
      "execution_count": null,
      "outputs": [
        {
          "output_type": "stream",
          "text": [
            "[    0     0     0     0     0     0     0     0     0     0     0     0\n",
            "     0     0     0     0     0     0     0     0     0     0     0     0\n",
            "     0     0     0     0     0     0     0     0     0     0     0     0\n",
            "     0     0     0     0     0     0     0     0     0     0     0     0\n",
            "     0     0     0     0     0     0     0     0     0     0     0     0\n",
            "     0     0     0     0     0     0     0     0     0     0     0     0\n",
            "     0     0     0     0     0     0     0     0     0     0     0     0\n",
            "     0     0     0     0     0     0     0     0     0     0     0     0\n",
            "     0     0     0     0     0     0     0     0     0     0     0     0\n",
            "     0     0     0     0     0     0     0     0     0     0     0     0\n",
            "     0     0     0     0     0     0     0     0     0     0     0     0\n",
            "     0     0     0     0     0     0     0     0     0    33  5008    35\n",
            "   187     7     6    35   116     1    51   241   198   953   251    24\n",
            "   205    74    99    68   276  1521   113     1     9  1432   383   751\n",
            "  2701   340   563   107    16   107    16  2328 27464 27465   629    42\n",
            "     4     7     6    41    42    33     4   251   988    93    10   157\n",
            "    41    42    32  1375     5   886   825     8    22  5053    24    41\n",
            "  1504    18  2525     8  2034  1269   276  1521     1     9    46   255\n",
            "   233     1  1387    86   595   524    42   559     1     9   524    42\n",
            "  1193  2328   107   107    16    23     6   431    41   123   193    23\n",
            "    55     6   220   312   465   117   207  2041   166   189]\n",
            "['due inconsistencies amount owed told bank amount reported credit reporting agencies advised write good letter order address issue request negative entry removed credit report together vehicle stolen declared total loss insurance company insurance company gap insurancw companypaid outstanding balance loan told bank still balance due loan good faith without received proof still balance made partial payment towards remaining debt sent goodwill letter still offering pay remainder debt echange removal negative entry credit report one point per credit monitoring agency showed delinquent balance checked credit report delinquent balance monies gap insurance insurance company paid bank says still owe already paid contacted bank via return receipt mail given courtesy response yet']\n"
          ],
          "name": "stdout"
        }
      ]
    },
    {
      "cell_type": "code",
      "metadata": {
        "colab": {
          "base_uri": "https://localhost:8080/"
        },
        "id": "bnm5M-Mmrbkv",
        "outputId": "baa3b8e8-b5c8-443c-8178-a66fe9dbbe04"
      },
      "source": [
        "df_complains[\"product\"].values"
      ],
      "execution_count": null,
      "outputs": [
        {
          "output_type": "execute_result",
          "data": {
            "text/plain": [
              "array(['Debt collection', 'Consumer Loan', 'Mortgage', ..., 'Payday loan',\n",
              "       'Mortgage', 'Mortgage'], dtype=object)"
            ]
          },
          "metadata": {
            "tags": []
          },
          "execution_count": 15
        }
      ]
    },
    {
      "cell_type": "markdown",
      "metadata": {
        "id": "uXz5xVZbD4Lg"
      },
      "source": [
        "##Training the model"
      ]
    },
    {
      "cell_type": "code",
      "metadata": {
        "id": "N7SjDDQXabxx",
        "colab": {
          "base_uri": "https://localhost:8080/"
        },
        "outputId": "c797d9b9-5ab0-419d-b929-c54e638cf9f8"
      },
      "source": [
        "y = pd.get_dummies(df_complains[\"product\"]).values\n",
        "print(\"Shape of target tensor\", y.shape)"
      ],
      "execution_count": null,
      "outputs": [
        {
          "output_type": "stream",
          "text": [
            "Shape of target tensor (66806, 11)\n"
          ],
          "name": "stdout"
        }
      ]
    },
    {
      "cell_type": "code",
      "metadata": {
        "id": "zfgQatQjaetA",
        "colab": {
          "base_uri": "https://localhost:8080/"
        },
        "outputId": "c22015e3-f3a8-44c6-b29c-25f7cab7e827"
      },
      "source": [
        "from sklearn.model_selection import train_test_split\n",
        "X_train,X_test,y_train,y_test = train_test_split(X,y,\n",
        "                                                test_size = 0.1,\n",
        "                                                random_state = 42)\n",
        "print(X_train.shape,y_train.shape)\n",
        "print(X_test.shape,y_test.shape)"
      ],
      "execution_count": null,
      "outputs": [
        {
          "output_type": "stream",
          "text": [
            "(60125, 250) (60125, 11)\n",
            "(6681, 250) (6681, 11)\n"
          ],
          "name": "stdout"
        }
      ]
    },
    {
      "cell_type": "code",
      "metadata": {
        "id": "8U2FdGmCagaF"
      },
      "source": [
        "from tensorflow.keras import Sequential\n",
        "from tensorflow.keras.layers import SpatialDropout1D\n",
        "from tensorflow.keras.layers import LSTM\n",
        "from tensorflow.keras.layers import Dense\n",
        "from tensorflow.keras.layers import Embedding\n",
        "from tensorflow.keras.callbacks import EarlyStopping\n",
        "\n",
        "model = Sequential()\n",
        "model.add(Embedding(max_nb_words,embedding_dim,input_length = X.shape[1]))\n",
        "model.add(SpatialDropout1D(0.2))\n",
        "model.add(LSTM(100,dropout = 0.2, recurrent_dropout = 0.2))\n",
        "model.add(Dense(11,activation = \"softmax\"))\n",
        "model.compile(loss = \"categorical_crossentropy\",optimizer = \"adam\", metrics = [\"accuracy\"])\n",
        "\n",
        "EPOCHS = 5\n",
        "batch_size = 64\n",
        "\n"
      ],
      "execution_count": null,
      "outputs": []
    },
    {
      "cell_type": "code",
      "metadata": {
        "colab": {
          "base_uri": "https://localhost:8080/"
        },
        "id": "8PbXCHmXpFMm",
        "outputId": "5aa19cdf-f6b4-4092-ea04-9d0d1762878e"
      },
      "source": [
        "history = model.fit(X_train, y_train, epochs=EPOCHS, batch_size=batch_size,validation_split=0.1,callbacks=[EarlyStopping(monitor='val_loss', patience=3, min_delta=0.0001)])\n"
      ],
      "execution_count": null,
      "outputs": [
        {
          "output_type": "stream",
          "text": [
            "Epoch 1/5\n",
            "846/846 [==============================] - 614s 723ms/step - loss: 1.4305 - accuracy: 0.5206 - val_loss: 0.8387 - val_accuracy: 0.7615\n",
            "Epoch 2/5\n",
            "846/846 [==============================] - 675s 798ms/step - loss: 0.7757 - accuracy: 0.7779 - val_loss: 0.7278 - val_accuracy: 0.7840\n",
            "Epoch 3/5\n",
            "846/846 [==============================] - 609s 720ms/step - loss: 0.6336 - accuracy: 0.8158 - val_loss: 0.6172 - val_accuracy: 0.8231\n",
            "Epoch 4/5\n",
            "846/846 [==============================] - 612s 724ms/step - loss: 0.4891 - accuracy: 0.8596 - val_loss: 0.5564 - val_accuracy: 0.8423\n",
            "Epoch 5/5\n",
            "846/846 [==============================] - 603s 713ms/step - loss: 0.4112 - accuracy: 0.8797 - val_loss: 0.5679 - val_accuracy: 0.8359\n"
          ],
          "name": "stdout"
        }
      ]
    },
    {
      "cell_type": "markdown",
      "metadata": {
        "id": "MgG42MlaDwG3"
      },
      "source": [
        "##Accuracy and Loss"
      ]
    },
    {
      "cell_type": "code",
      "metadata": {
        "colab": {
          "base_uri": "https://localhost:8080/"
        },
        "id": "HZbakfpBpfR0",
        "outputId": "f88d7a35-3fbb-4d7f-952d-96e1ecd8f943"
      },
      "source": [
        "accr = model.evaluate(X_test,y_test)\n",
        "print(\"Test set \\n Loss: {} \\n Accuracy: {}\".format(accr[0],accr[1]))"
      ],
      "execution_count": null,
      "outputs": [
        {
          "output_type": "stream",
          "text": [
            "209/209 [==============================] - 13s 62ms/step - loss: 0.6011 - accuracy: 0.8231\n",
            "Test set \n",
            " Loss: 0.6011276245117188 \n",
            " Accuracy: 0.8230803608894348\n"
          ],
          "name": "stdout"
        }
      ]
    },
    {
      "cell_type": "code",
      "metadata": {
        "colab": {
          "base_uri": "https://localhost:8080/"
        },
        "id": "Rw7dcs40u3Yx",
        "outputId": "1209c85b-63be-4bdf-e80b-f69a47e11e51"
      },
      "source": [
        "history.history\n"
      ],
      "execution_count": null,
      "outputs": [
        {
          "output_type": "execute_result",
          "data": {
            "text/plain": [
              "{'accuracy': [0.6412255764007568,\n",
              "  0.7827838659286499,\n",
              "  0.8207606673240662,\n",
              "  0.8610289692878723,\n",
              "  0.8804147243499756],\n",
              " 'loss': [1.1399083137512207,\n",
              "  0.7507742047309875,\n",
              "  0.618269681930542,\n",
              "  0.4813796281814575,\n",
              "  0.40993672609329224],\n",
              " 'val_accuracy': [0.7615166902542114,\n",
              "  0.7839680910110474,\n",
              "  0.8230500817298889,\n",
              "  0.8423416018486023,\n",
              "  0.8358556628227234],\n",
              " 'val_loss': [0.8386667966842651,\n",
              "  0.7277626395225525,\n",
              "  0.6172273755073547,\n",
              "  0.5564112067222595,\n",
              "  0.5679055452346802]}"
            ]
          },
          "metadata": {
            "tags": []
          },
          "execution_count": 29
        }
      ]
    },
    {
      "cell_type": "code",
      "metadata": {
        "colab": {
          "base_uri": "https://localhost:8080/",
          "height": 281
        },
        "id": "6Im-ITz5u5iE",
        "outputId": "e8585193-2189-4330-ec79-de33d8c060c4"
      },
      "source": [
        "import matplotlib.pyplot as plt\n",
        "plt.title('Loss')\n",
        "plt.plot(history.history['loss'], label='train')\n",
        "plt.plot(history.history['val_loss'], label='test')\n",
        "plt.legend()\n",
        "plt.show();"
      ],
      "execution_count": null,
      "outputs": [
        {
          "output_type": "display_data",
          "data": {
            "image/png": "[encoded data removed]",
            "text/plain": [
              "<Figure size 432x288 with 1 Axes>"
            ]
          },
          "metadata": {
            "tags": [],
            "needs_background": "light"
          }
        }
      ]
    },
    {
      "cell_type": "code",
      "metadata": {
        "colab": {
          "base_uri": "https://localhost:8080/",
          "height": 281
        },
        "id": "uPhroO6Fu7fD",
        "outputId": "6ae19da5-fb6d-4daf-f1f3-daddee476cf4"
      },
      "source": [
        "plt.title('Accuracy')\n",
        "plt.plot(history.history['accuracy'], label='train')\n",
        "plt.plot(history.history['val_accuracy'], label='test')\n",
        "plt.legend()\n",
        "plt.show();"
      ],
      "execution_count": null,
      "outputs": [
        {
          "output_type": "display_data",
          "data": {
            "image/png": "[encoded data removed]",
            "text/plain": [
              "<Figure size 432x288 with 1 Axes>"
            ]
          },
          "metadata": {
            "tags": [],
            "needs_background": "light"
          }
        }
      ]
    },
    {
      "cell_type": "markdown",
      "metadata": {
        "id": "4YEw16TlDeFu"
      },
      "source": [
        "##predictions"
      ]
    },
    {
      "cell_type": "code",
      "metadata": {
        "id": "RE0s6WQx7TQ8"
      },
      "source": [
        "new_complaint = ['I am a victim of identity theft and someone stole my identity and personal information to open up a Visa credit card account with Bank of America. The following Bank of America Visa credit card account do not belong to me : XXXX.']\n",
        "seq = tokenizer.texts_to_sequences(new_complaint)\n",
        "padded = pad_sequences(seq, maxlen=max_sequence_length)\n",
        "pred = model1.predict(padded)\n",
        "Labels = ['Other financial service','Money transfers','Payday loan','Debt collection','Mortgage','Credit reporting','Credit card','Bank account or service','Consumer Loan','Student loan','Prepaid card']print(pred, labels[np.argmax(pred)])"
      ],
      "execution_count": null,
      "outputs": []
    },
    {
      "cell_type": "code",
      "metadata": {
        "colab": {
          "base_uri": "https://localhost:8080/"
        },
        "id": "eUjWhL9g9BsE",
        "outputId": "475fb28d-1149-4426-dcd5-f503412ba265"
      },
      "source": [
        "new_complaint = ['I was charged {$140.00} in Overdraft fees for {$20.00} overdraft as well as on XXXX/XXXX & XX/XX/XXXX I was charged 2 Overdraft fees over the same transaction twice']\n",
        "seq = tokenizer.texts_to_sequences(new_complaint)\n",
        "padded = pad_sequences(seq, maxlen=max_sequence_length)\n",
        "pred = model.predict(padded)\n",
        "labels = ['Credit reporting, credit repair services, or other personal consumer reports', 'Debt collection', 'Credit card or prepaid card', 'Student loan', 'Bank account or service', 'Checking or savings account', 'Consumer Loan', 'Payday loan, title loan, or personal loan', 'Vehicle loan or lease', 'Money transfer, virtual currency, or money service', 'Money transfers', 'Prepaid card']\n",
        "print(pred, labels[np.argmax(pred)])"
      ],
      "execution_count": null,
      "outputs": [
        {
          "output_type": "stream",
          "text": [
            "[[9.8914868e-01 9.7613782e-04 2.1621101e-03 8.6279761e-05 6.6304638e-04\n",
            "  4.1764267e-03 1.3492173e-03 5.5299280e-04 3.9650782e-04 2.4284312e-04\n",
            "  2.4586037e-04]] Credit reporting, credit repair services, or other personal consumer reports\n"
          ],
          "name": "stdout"
        }
      ]
    },
    {
      "cell_type": "code",
      "metadata": {
        "colab": {
          "base_uri": "https://localhost:8080/"
        },
        "id": "zqkDcFvw9pyf",
        "outputId": "8d6b41d2-532d-4ad9-af0e-20f049c65929"
      },
      "source": [
        "new_complaint = ['My ID was stolen 2012. Used for medical stuff I do not know or recognize. I have disputed to all XXXX credit bureaus, but it has not been taken off my credit report yet. Please help!']\n",
        "seq = tokenizer.texts_to_sequences(new_complaint)\n",
        "padded = pad_sequences(seq, maxlen=max_sequence_length)\n",
        "pred = model.predict(padded)\n",
        "labels = ['Credit reporting, credit repair services, or other personal consumer reports',  'Credit card or prepaid card', 'Student loan', 'Bank account or service', 'Checking or savings account', 'Consumer Loan', 'Payday loan, title loan, or personal loan', 'Vehicle loan or lease', 'Money transfer, virtual currency, or money service', 'Money transfers', 'Prepaid card']\n",
        "print(pred, labels[np.argmax(pred)])"
      ],
      "execution_count": null,
      "outputs": [
        {
          "output_type": "stream",
          "text": [
            "[[1.7743546e-03 5.0941110e-03 3.2664694e-02 6.1646861e-01 3.4000298e-01\n",
            "  1.0691974e-04 2.1407823e-03 3.2123941e-04 4.2167772e-04 2.9990103e-04\n",
            "  7.0479838e-04]] Bank account or service\n"
          ],
          "name": "stdout"
        }
      ]
    },
    {
      "cell_type": "code",
      "metadata": {
        "colab": {
          "base_uri": "https://localhost:8080/"
        },
        "id": "qwlKBTIT_rXY",
        "outputId": "85b6b1b0-7940-4856-82d8-d2f9c12ea432"
      },
      "source": [
        "new_complaint = ['I attended a presentation in XXXX, and the company ran my credit card for almost {$31000.00}. I did not authorize the charges. I revisited the merchant after seeing the charge, they provided me a letter stating they would refund my monies. this never occured. I called Citibank my card issuer, opened a fraud dispute at the customer service reps advice, heard nothing until XX/XX/XXXX where the case was closed as they stated this was not fraud it was billing dispute. I did speak with the investigator, she asked me to send in a notarized copy of the situation and then I opened the billing dispute. Weekly I have been contacting Citibank with no resolution, and this week they told me that too much time has elapsed and they could not assist me. there was not any moment I waited longer than 48 hours to return any documentation they asked for, and the initial charge back was open within 10 days of the charge. Since XX/XX/XXXX the merchant has disconnected their phones and removed website. I have asked the issue for arbitration, and they have told me I can not request arbitration on this issue as they need to open arbitration with the acquiring bank.']\n",
        "seq = tokenizer.texts_to_sequences(new_complaint)\n",
        "padded = pad_sequences(seq, maxlen=max_sequence_length)\n",
        "pred = model.predict(padded)\n",
        "labels = ['Credit reporting, credit repair services, or other personal consumer reports', 'Debt collection', 'Credit card or prepaid card', 'Student loan', 'Bank account or service', 'Checking or savings account', 'Consumer Loan', 'Payday loan, title loan, or personal loan', 'Vehicle loan or lease', 'Money transfer, virtual currency, or money service', 'Money transfers', 'Prepaid card']\n",
        "print(pred, labels[np.argmax(pred)])"
      ],
      "execution_count": null,
      "outputs": [
        {
          "output_type": "stream",
          "text": [
            "[[6.6176638e-02 4.6089943e-03 9.1155803e-01 1.6534692e-03 1.2334696e-02\n",
            "  4.9252069e-04 3.9496648e-04 2.5353627e-04 2.4887771e-04 2.2381477e-03\n",
            "  4.0111398e-05]] Credit card or prepaid card\n"
          ],
          "name": "stdout"
        }
      ]
    },
    {
      "cell_type": "code",
      "metadata": {
        "colab": {
          "base_uri": "https://localhost:8080/"
        },
        "id": "2SLMkRnzBfGY",
        "outputId": "987879cb-5708-4ce2-c415-a522fa9e5643"
      },
      "source": [
        "new_complaint = ['XXXX XXXX I purchased ( paid cash ) a home from H.U.D. I use t \" The mortgage servicer intends to protect this property from waste and/or deterioration ''. Please keep in mind I paid cash for this property and there was no mortgage!!  of the door, they also left a bigger note on the inside window to be viable from the outside regarding whom to contact ( XXXX ) in case of vandalism or city ordinance violations..This note also clearly stated \" XXXX DOES NOT HAVE SALE/RENTAL INFORMATION '' I called the number provided on this poster and they asked for the address and my mortgage companies name..When I advised I did not have a mortgagee on this property I paid cash to HUD they would not give me any info as to whom authorized the break in to secure it. I even threatened to call the police to no avail. It was as if they were protecting their client from being identified. They would not give me the name of the mortgage company allowing me to make contact. I had to research the county records to find out whom the previous mortgage holder was. I found FlagStar Bank had held the previous mortgage so I called XXXX and when they asked whom my mortgagor was I told them Flagstar bank, they then confirmed that it was Flagstar Bank that I need to make pay or make arrangements with. I contacted the assistant to the President of Flagstar and was told I would need to file a request on XXXX of their forms and they would get back to me. I then informed him no way in heck was I going to file a claim on XXXX of their stupid forms and they better darn well pay for my damages that they had caused to be done or I \\'d file suit against them. To make this short he did agree to check it out and they did finally admit their wrong doing but would n\\'t offer what I thought was a fair offer regarding my damages. I have started a legal suit against them. My concern is how many times have they already done this and/or how many more times will they repeat it? You folks ( Consumer Financial Protection Bureau ) fined this same bank XXXX XXXX dollars for their improper mortgage practices in XXXX of XXXX. File No XXXX. Yet they seem not to care, The excuse I was given we are in the process of changes some of our policies and this must have slipped through the cracks. This is suppose to be a Financial Institution that follows the legal banking rules and regulations? Attempting to repossess a property XXXX for the same loan that they had already gone through the process of returning it for the government loan guarantee and HUD had already resold. I ca n\\'t believe they could be so incompetent, especially after being fined ( evidently a small enough amount that it did make a difference to them ) XXXX XXXX dollars for what I would call similar practices regarding handling mortgages!']\n",
        "seq = tokenizer.texts_to_sequences(new_complaint)\n",
        "padded = pad_sequences(seq, maxlen=max_sequence_length)\n",
        "pred = model.predict(padded)\n",
        "labels = ['Credit reporting, credit repair services, or other personal consumer reports', 'Debt collection', 'Mortgage', 'Credit card or prepaid card', 'Student loan', 'Bank account or service', 'Checking or savings account', 'Consumer Loan', 'Payday loan, title loan, or personal loan', 'Vehicle loan or lease', 'Money transfer, virtual currency, or money service', 'Money transfers', 'Prepaid card']\n",
        "print(pred, labels[np.argmax(pred)])"
      ],
      "execution_count": null,
      "outputs": [
        {
          "output_type": "stream",
          "text": [
            "[[8.3679089e-04 1.2480801e-03 1.7381930e-04 7.0131134e-04 3.9987094e-03\n",
            "  2.5601306e-05 9.9260145e-01 9.4092757e-05 5.6971603e-05 3.7925342e-06\n",
            "  2.5942901e-04]] Checking or savings account\n"
          ],
          "name": "stdout"
        }
      ]
    },
    {
      "cell_type": "code",
      "metadata": {
        "id": "2aFPx68SDiEt"
      },
      "source": [
        ""
      ],
      "execution_count": null,
      "outputs": []
    },
    {
      "cell_type": "code",
      "metadata": {
        "id": "u5OP0tQGlKWt",
        "colab": {
          "base_uri": "https://localhost:8080/"
        },
        "outputId": "07166b48-d6dd-4584-bbdd-887b4122af9c"
      },
      "source": [
        "model.save(\"/content/drive/MyDrive/Lstm/my_model\")"
      ],
      "execution_count": null,
      "outputs": [
        {
          "output_type": "stream",
          "text": [
            "INFO:tensorflow:Assets written to: /content/my_model/assets\n"
          ],
          "name": "stdout"
        }
      ]
    },
    {
      "cell_type": "markdown",
      "metadata": {
        "id": "0oUebmKA7xox"
      },
      "source": [
        "##Running Trained model on UI\n"
      ]
    },
    {
      "cell_type": "code",
      "metadata": {
        "id": "wqFtErgKklWf"
      },
      "source": [
        "!pip install streamlit"
      ],
      "execution_count": null,
      "outputs": []
    },
    {
      "cell_type": "code",
      "metadata": {
        "colab": {
          "base_uri": "https://localhost:8080/"
        },
        "id": "ZcCBojzNklSm",
        "outputId": "dbe26fd5-650b-4005-a0cf-ea111c75f7be"
      },
      "source": [
        "!wget https://bin.equinox.io/c/4VmDzA7iaHb/ngrok-stable-linux-amd64.zip"
      ],
      "execution_count": null,
      "outputs": [
        {
          "output_type": "stream",
          "text": [
            "--2021-04-28 10:58:55--  https://bin.equinox.io/c/4VmDzA7iaHb/ngrok-stable-linux-amd64.zip\n",
            "Resolving bin.equinox.io (bin.equinox.io)... 34.205.198.58, 34.232.92.41, 54.235.211.105, ...\n",
            "Connecting to bin.equinox.io (bin.equinox.io)|34.205.198.58|:443... connected.\n",
            "HTTP request sent, awaiting response... 200 OK\n",
            "Length: 13828408 (13M) [application/octet-stream]\n",
            "Saving to: ‘ngrok-stable-linux-amd64.zip.3’\n",
            "\n",
            "ngrok-stable-linux- 100%[===================>]  13.19M  28.5MB/s    in 0.5s    \n",
            "\n",
            "2021-04-28 10:58:56 (28.5 MB/s) - ‘ngrok-stable-linux-amd64.zip.3’ saved [13828408/13828408]\n",
            "\n"
          ],
          "name": "stdout"
        }
      ]
    },
    {
      "cell_type": "code",
      "metadata": {
        "colab": {
          "base_uri": "https://localhost:8080/"
        },
        "id": "rDxv9DsVklPL",
        "outputId": "50893903-8a0f-4eee-de3a-c6acf31c8029"
      },
      "source": [
        "!unzip ngrok-stable-linux-amd64.zip"
      ],
      "execution_count": null,
      "outputs": [
        {
          "output_type": "stream",
          "text": [
            "Archive:  ngrok-stable-linux-amd64.zip\n",
            "replace ngrok? [y]es, [n]o, [A]ll, [N]one, [r]ename: n\n"
          ],
          "name": "stdout"
        }
      ]
    },
    {
      "cell_type": "code",
      "metadata": {
        "id": "s3YmbDCBklNW"
      },
      "source": [
        "get_ipython().system_raw('./ngrok http 8501 &')"
      ],
      "execution_count": null,
      "outputs": []
    },
    {
      "cell_type": "code",
      "metadata": {
        "colab": {
          "base_uri": "https://localhost:8080/"
        },
        "id": "-8iVqk3tklKm",
        "outputId": "85ae2d8e-70bc-4469-f867-691dc386afd9"
      },
      "source": [
        "!curl -s http://localhost:4040/api/tunnels | python3 -c \\\n",
        "    'import sys, json; print(\"Execute the next cell and the go to the following URL: \" +json.load(sys.stdin)[\"tunnels\"][0][\"public_url\"])'"
      ],
      "execution_count": null,
      "outputs": [
        {
          "output_type": "stream",
          "text": [
            "Execute the next cell and the go to the following URL: http://64a811b3eb25.ngrok.io\n"
          ],
          "name": "stdout"
        }
      ]
    },
    {
      "cell_type": "code",
      "metadata": {
        "colab": {
          "base_uri": "https://localhost:8080/"
        },
        "id": "wY7kxn40lDuI",
        "outputId": "17ae0eba-7583-4742-e0b7-7a7881c12891"
      },
      "source": [
        "!streamlit run /content/drive/MyDrive/Lstm/tdl.py"
      ],
      "execution_count": null,
      "outputs": [
        {
          "output_type": "stream",
          "text": [
            "2021-04-28 11:00:07.092668: I tensorflow/stream_executor/platform/default/dso_loader.cc:49] Successfully opened dynamic library libcudart.so.11.0\n",
            "\u001b[0m\n",
            "\u001b[34m\u001b[1m  You can now view your Streamlit app in your browser.\u001b[0m\n",
            "\u001b[0m\n",
            "\u001b[34m  Network URL: \u001b[0m\u001b[1mhttp://172.28.0.2:8501\u001b[0m\n",
            "\u001b[34m  External URL: \u001b[0m\u001b[1mhttp://35.245.133.188:8501\u001b[0m\n",
            "\u001b[0m\n",
            "[nltk_data] Downloading package stopwords to /root/nltk_data...\n",
            "[nltk_data]   Package stopwords is already up-to-date!\n",
            "2021-04-28 11:00:14.920334: I tensorflow/compiler/jit/xla_cpu_device.cc:41] Not creating XLA devices, tf_xla_enable_xla_devices not set\n",
            "2021-04-28 11:00:14.921466: I tensorflow/stream_executor/platform/default/dso_loader.cc:49] Successfully opened dynamic library libcuda.so.1\n",
            "2021-04-28 11:00:14.933636: E tensorflow/stream_executor/cuda/cuda_driver.cc:328] failed call to cuInit: CUDA_ERROR_NO_DEVICE: no CUDA-capable device is detected\n",
            "2021-04-28 11:00:14.933691: I tensorflow/stream_executor/cuda/cuda_diagnostics.cc:156] kernel driver does not appear to be running on this host (6133928bd9a8): /proc/driver/nvidia/version does not exist\n",
            "2021-04-28 11:00:14.934631: I tensorflow/compiler/jit/xla_gpu_device.cc:99] Not creating XLA devices, tf_xla_enable_xla_devices not set\n",
            "[nltk_data] Downloading package stopwords to /root/nltk_data...\n",
            "[nltk_data]   Package stopwords is already up-to-date!\n",
            "[nltk_data] Downloading package stopwords to /root/nltk_data...\n",
            "[nltk_data]   Package stopwords is already up-to-date!\n",
            "2021-04-28 11:01:15.569525: I tensorflow/compiler/mlir/mlir_graph_optimization_pass.cc:116] None of the MLIR optimization passes are enabled (registered 2)\n",
            "2021-04-28 11:01:15.570087: I tensorflow/core/platform/profile_utils/cpu_utils.cc:112] CPU Frequency: 2200130000 Hz\n",
            "\u001b[34m  Stopping...\u001b[0m\n"
          ],
          "name": "stdout"
        }
      ]
    }
  ]
}